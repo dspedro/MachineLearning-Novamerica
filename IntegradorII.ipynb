{
  "nbformat": 4,
  "nbformat_minor": 0,
  "metadata": {
    "colab": {
      "name": "IntegradorII.ipynb",
      "provenance": [],
      "collapsed_sections": []
    },
    "kernelspec": {
      "name": "python3",
      "display_name": "Python 3"
    },
    "language_info": {
      "name": "python"
    }
  },
  "cells": [
    {
      "cell_type": "markdown",
      "source": [
        "# Projeto Integrador FATEC Ourinhos - NovAmérica Agrícola Tarumã   * Pedro de Azevedo Martins"
      ],
      "metadata": {
        "id": "qmgGw2OzMkg0"
      }
    },
    {
      "cell_type": "markdown",
      "source": [
        "Dados drecebidos da empresa NovAmérica do setor de manutenção de oficina mecânica  Maio de 2021"
      ],
      "metadata": {
        "id": "z8SsPLz4M_14"
      }
    },
    {
      "cell_type": "markdown",
      "metadata": {
        "id": "l6p40Rg8wJgJ"
      },
      "source": [
        "# Utilizando ML para prever horas de manutenção por sub-sistema e melhor funcionario indicado para manutenção"
      ]
    },
    {
      "cell_type": "markdown",
      "source": [
        "# Importações de bibliotecas e dados"
      ],
      "metadata": {
        "id": "TiPgY5H4OfyZ"
      }
    },
    {
      "cell_type": "markdown",
      "metadata": {
        "id": "lr6q7BsxmqjT"
      },
      "source": [
        "Importando as funções e bibliotecas que serão usadas"
      ]
    },
    {
      "cell_type": "code",
      "metadata": {
        "id": "pSpPpb40wD-a"
      },
      "source": [
        "from sklearn.ensemble import RandomForestRegressor # Modelo de regressão escolhido\n",
        "from sklearn.metrics import mean_absolute_error # Métrica para validação e qualidade do modelo\n",
        "from sklearn.model_selection import train_test_split\n",
        "#from sklearn.tree import DecisionTreeRegressor\n",
        "from sklearn.metrics import r2_score # Coeficiente de determinação ou R², outra métrica de qualidade\n",
        "import pandas as pd\n",
        "import datetime"
      ],
      "execution_count": null,
      "outputs": []
    },
    {
      "cell_type": "code",
      "metadata": {
        "colab": {
          "base_uri": "https://localhost:8080/",
          "height": 374
        },
        "id": "6HXyLT3jmUpX",
        "outputId": "5ea67a4d-2511-47c4-8f19-edf5123cde5b"
      },
      "source": [
        "#dataFrame = pd.read_csv('FullData.csv')\n",
        "dataFrame = pd.read_csv('drive/MyDrive/FullData.csv')\n",
        "dataFrame.head()"
      ],
      "execution_count": null,
      "outputs": [
        {
          "output_type": "execute_result",
          "data": {
            "text/html": [
              "<div>\n",
              "<style scoped>\n",
              "    .dataframe tbody tr th:only-of-type {\n",
              "        vertical-align: middle;\n",
              "    }\n",
              "\n",
              "    .dataframe tbody tr th {\n",
              "        vertical-align: top;\n",
              "    }\n",
              "\n",
              "    .dataframe thead th {\n",
              "        text-align: right;\n",
              "    }\n",
              "</style>\n",
              "<table border=\"1\" class=\"dataframe\">\n",
              "  <thead>\n",
              "    <tr style=\"text-align: right;\">\n",
              "      <th></th>\n",
              "      <th>Classe de Manutenção - Código</th>\n",
              "      <th>Classe de Manutenção - Descrição</th>\n",
              "      <th>Data de Entrada</th>\n",
              "      <th>Data de Saída</th>\n",
              "      <th>Funcionário - Código</th>\n",
              "      <th>Funcionário - Descrição</th>\n",
              "      <th>Sistema Veicular - Código</th>\n",
              "      <th>Sistema Veicular - Código.1</th>\n",
              "      <th>Subsistema Veicular - Código</th>\n",
              "      <th>Subsistema Veicular - Descrição</th>\n",
              "      <th>\\nHoras</th>\n",
              "      <th>\\nSistema Veicular</th>\n",
              "      <th>\\nFuncionário</th>\n",
              "      <th>\\nData de Saída</th>\n",
              "      <th>\\nData de Entrada</th>\n",
              "      <th>\\nClasse de Manutenção</th>\n",
              "      <th>\\nGeral</th>\n",
              "    </tr>\n",
              "  </thead>\n",
              "  <tbody>\n",
              "    <tr>\n",
              "      <th>0</th>\n",
              "      <td>29</td>\n",
              "      <td>Corret. Emergencial</td>\n",
              "      <td>1/4/2020</td>\n",
              "      <td>1/4/2020</td>\n",
              "      <td>22955</td>\n",
              "      <td>Marcelo Venceslau da Silva</td>\n",
              "      <td>1400</td>\n",
              "      <td>SISTEMA HIDRÁULICO</td>\n",
              "      <td>1402</td>\n",
              "      <td>Cilindro hidráulico</td>\n",
              "      <td>2.35</td>\n",
              "      <td>100.0</td>\n",
              "      <td>100.0</td>\n",
              "      <td>2.10</td>\n",
              "      <td>0.11</td>\n",
              "      <td>0.0</td>\n",
              "      <td>0.0</td>\n",
              "    </tr>\n",
              "    <tr>\n",
              "      <th>1</th>\n",
              "      <td>29</td>\n",
              "      <td>Corret. Emergencial</td>\n",
              "      <td>1/4/2020</td>\n",
              "      <td>1/4/2020</td>\n",
              "      <td>30413</td>\n",
              "      <td>Agnaldo Aparecido Monteiro</td>\n",
              "      <td>1300</td>\n",
              "      <td>SISTEMA ELÉTRICO</td>\n",
              "      <td>1312</td>\n",
              "      <td>Indicadores Diversos</td>\n",
              "      <td>4.74</td>\n",
              "      <td>100.0</td>\n",
              "      <td>100.0</td>\n",
              "      <td>4.23</td>\n",
              "      <td>0.23</td>\n",
              "      <td>0.0</td>\n",
              "      <td>0.0</td>\n",
              "    </tr>\n",
              "    <tr>\n",
              "      <th>2</th>\n",
              "      <td>29</td>\n",
              "      <td>Corret. Emergencial</td>\n",
              "      <td>1/4/2020</td>\n",
              "      <td>1/4/2020</td>\n",
              "      <td>41598</td>\n",
              "      <td>Ademir de Jesus Aparecido</td>\n",
              "      <td>1400</td>\n",
              "      <td>SISTEMA HIDRÁULICO</td>\n",
              "      <td>1410</td>\n",
              "      <td>Mangueiras</td>\n",
              "      <td>2.99</td>\n",
              "      <td>100.0</td>\n",
              "      <td>100.0</td>\n",
              "      <td>2.67</td>\n",
              "      <td>0.15</td>\n",
              "      <td>0.0</td>\n",
              "      <td>0.0</td>\n",
              "    </tr>\n",
              "    <tr>\n",
              "      <th>3</th>\n",
              "      <td>29</td>\n",
              "      <td>Corret. Emergencial</td>\n",
              "      <td>1/4/2020</td>\n",
              "      <td>1/4/2020</td>\n",
              "      <td>50082</td>\n",
              "      <td>Alessandro Miranda</td>\n",
              "      <td>1000</td>\n",
              "      <td>PNEUS E AROS</td>\n",
              "      <td>1003</td>\n",
              "      <td>Pneus traseiros</td>\n",
              "      <td>0.29</td>\n",
              "      <td>100.0</td>\n",
              "      <td>100.0</td>\n",
              "      <td>0.26</td>\n",
              "      <td>0.01</td>\n",
              "      <td>0.0</td>\n",
              "      <td>0.0</td>\n",
              "    </tr>\n",
              "    <tr>\n",
              "      <th>4</th>\n",
              "      <td>29</td>\n",
              "      <td>Corret. Emergencial</td>\n",
              "      <td>1/4/2020</td>\n",
              "      <td>1/4/2020</td>\n",
              "      <td>52596</td>\n",
              "      <td>Josenaldo Silva Sousa</td>\n",
              "      <td>1300</td>\n",
              "      <td>SISTEMA ELÉTRICO</td>\n",
              "      <td>1301</td>\n",
              "      <td>Alternador</td>\n",
              "      <td>3.35</td>\n",
              "      <td>100.0</td>\n",
              "      <td>100.0</td>\n",
              "      <td>2.99</td>\n",
              "      <td>0.16</td>\n",
              "      <td>0.0</td>\n",
              "      <td>0.0</td>\n",
              "    </tr>\n",
              "  </tbody>\n",
              "</table>\n",
              "</div>"
            ],
            "text/plain": [
              "   Classe de Manutenção - Código  ... \\nGeral\n",
              "0                             29  ...     0.0\n",
              "1                             29  ...     0.0\n",
              "2                             29  ...     0.0\n",
              "3                             29  ...     0.0\n",
              "4                             29  ...     0.0\n",
              "\n",
              "[5 rows x 17 columns]"
            ]
          },
          "metadata": {
            "tags": []
          },
          "execution_count": 2
        }
      ]
    },
    {
      "cell_type": "markdown",
      "source": [
        "# Pré-processamento"
      ],
      "metadata": {
        "id": "wMB7O0b9O1-v"
      }
    },
    {
      "cell_type": "markdown",
      "source": [
        "Lidando com colunas irregulares"
      ],
      "metadata": {
        "id": "vzcus0NFN8xJ"
      }
    },
    {
      "cell_type": "code",
      "metadata": {
        "colab": {
          "base_uri": "https://localhost:8080/",
          "height": 374
        },
        "id": "KYHtr7hwUsOP",
        "outputId": "c8cbe3ac-605b-412b-896e-2e5c361d0868"
      },
      "source": [
        "# a seguir é modificado os rotulos que possuem os \"/n\" antes\n",
        "\n",
        "dataFrame = dataFrame.rename(columns={'\\nHoras':'Horas','\\nSistema Veicular' : 'Sis. Veicular', '\\nFuncionário' : 'Funcionario', '\\nClasse de Manutenção' : 'Classe Manut.', '\\nGeral' : 'Geral'}) #\\nData de Saída' : 'Data de Saida', '\\nData de Entrada' : 'Data de Entrada',\n",
        "dataFrame.head()"
      ],
      "execution_count": null,
      "outputs": [
        {
          "output_type": "execute_result",
          "data": {
            "text/html": [
              "<div>\n",
              "<style scoped>\n",
              "    .dataframe tbody tr th:only-of-type {\n",
              "        vertical-align: middle;\n",
              "    }\n",
              "\n",
              "    .dataframe tbody tr th {\n",
              "        vertical-align: top;\n",
              "    }\n",
              "\n",
              "    .dataframe thead th {\n",
              "        text-align: right;\n",
              "    }\n",
              "</style>\n",
              "<table border=\"1\" class=\"dataframe\">\n",
              "  <thead>\n",
              "    <tr style=\"text-align: right;\">\n",
              "      <th></th>\n",
              "      <th>Classe de Manutenção - Código</th>\n",
              "      <th>Classe de Manutenção - Descrição</th>\n",
              "      <th>Data de Entrada</th>\n",
              "      <th>Data de Saída</th>\n",
              "      <th>Funcionário - Código</th>\n",
              "      <th>Funcionário - Descrição</th>\n",
              "      <th>Sistema Veicular - Código</th>\n",
              "      <th>Sistema Veicular - Código.1</th>\n",
              "      <th>Subsistema Veicular - Código</th>\n",
              "      <th>Subsistema Veicular - Descrição</th>\n",
              "      <th>Horas</th>\n",
              "      <th>Sis. Veicular</th>\n",
              "      <th>Funcionario</th>\n",
              "      <th>\\nData de Saída</th>\n",
              "      <th>\\nData de Entrada</th>\n",
              "      <th>Classe Manut.</th>\n",
              "      <th>Geral</th>\n",
              "    </tr>\n",
              "  </thead>\n",
              "  <tbody>\n",
              "    <tr>\n",
              "      <th>0</th>\n",
              "      <td>29</td>\n",
              "      <td>Corret. Emergencial</td>\n",
              "      <td>1/4/2020</td>\n",
              "      <td>1/4/2020</td>\n",
              "      <td>22955</td>\n",
              "      <td>Marcelo Venceslau da Silva</td>\n",
              "      <td>1400</td>\n",
              "      <td>SISTEMA HIDRÁULICO</td>\n",
              "      <td>1402</td>\n",
              "      <td>Cilindro hidráulico</td>\n",
              "      <td>2.35</td>\n",
              "      <td>100.0</td>\n",
              "      <td>100.0</td>\n",
              "      <td>2.10</td>\n",
              "      <td>0.11</td>\n",
              "      <td>0.0</td>\n",
              "      <td>0.0</td>\n",
              "    </tr>\n",
              "    <tr>\n",
              "      <th>1</th>\n",
              "      <td>29</td>\n",
              "      <td>Corret. Emergencial</td>\n",
              "      <td>1/4/2020</td>\n",
              "      <td>1/4/2020</td>\n",
              "      <td>30413</td>\n",
              "      <td>Agnaldo Aparecido Monteiro</td>\n",
              "      <td>1300</td>\n",
              "      <td>SISTEMA ELÉTRICO</td>\n",
              "      <td>1312</td>\n",
              "      <td>Indicadores Diversos</td>\n",
              "      <td>4.74</td>\n",
              "      <td>100.0</td>\n",
              "      <td>100.0</td>\n",
              "      <td>4.23</td>\n",
              "      <td>0.23</td>\n",
              "      <td>0.0</td>\n",
              "      <td>0.0</td>\n",
              "    </tr>\n",
              "    <tr>\n",
              "      <th>2</th>\n",
              "      <td>29</td>\n",
              "      <td>Corret. Emergencial</td>\n",
              "      <td>1/4/2020</td>\n",
              "      <td>1/4/2020</td>\n",
              "      <td>41598</td>\n",
              "      <td>Ademir de Jesus Aparecido</td>\n",
              "      <td>1400</td>\n",
              "      <td>SISTEMA HIDRÁULICO</td>\n",
              "      <td>1410</td>\n",
              "      <td>Mangueiras</td>\n",
              "      <td>2.99</td>\n",
              "      <td>100.0</td>\n",
              "      <td>100.0</td>\n",
              "      <td>2.67</td>\n",
              "      <td>0.15</td>\n",
              "      <td>0.0</td>\n",
              "      <td>0.0</td>\n",
              "    </tr>\n",
              "    <tr>\n",
              "      <th>3</th>\n",
              "      <td>29</td>\n",
              "      <td>Corret. Emergencial</td>\n",
              "      <td>1/4/2020</td>\n",
              "      <td>1/4/2020</td>\n",
              "      <td>50082</td>\n",
              "      <td>Alessandro Miranda</td>\n",
              "      <td>1000</td>\n",
              "      <td>PNEUS E AROS</td>\n",
              "      <td>1003</td>\n",
              "      <td>Pneus traseiros</td>\n",
              "      <td>0.29</td>\n",
              "      <td>100.0</td>\n",
              "      <td>100.0</td>\n",
              "      <td>0.26</td>\n",
              "      <td>0.01</td>\n",
              "      <td>0.0</td>\n",
              "      <td>0.0</td>\n",
              "    </tr>\n",
              "    <tr>\n",
              "      <th>4</th>\n",
              "      <td>29</td>\n",
              "      <td>Corret. Emergencial</td>\n",
              "      <td>1/4/2020</td>\n",
              "      <td>1/4/2020</td>\n",
              "      <td>52596</td>\n",
              "      <td>Josenaldo Silva Sousa</td>\n",
              "      <td>1300</td>\n",
              "      <td>SISTEMA ELÉTRICO</td>\n",
              "      <td>1301</td>\n",
              "      <td>Alternador</td>\n",
              "      <td>3.35</td>\n",
              "      <td>100.0</td>\n",
              "      <td>100.0</td>\n",
              "      <td>2.99</td>\n",
              "      <td>0.16</td>\n",
              "      <td>0.0</td>\n",
              "      <td>0.0</td>\n",
              "    </tr>\n",
              "  </tbody>\n",
              "</table>\n",
              "</div>"
            ],
            "text/plain": [
              "   Classe de Manutenção - Código  ... Geral\n",
              "0                             29  ...   0.0\n",
              "1                             29  ...   0.0\n",
              "2                             29  ...   0.0\n",
              "3                             29  ...   0.0\n",
              "4                             29  ...   0.0\n",
              "\n",
              "[5 rows x 17 columns]"
            ]
          },
          "metadata": {
            "tags": []
          },
          "execution_count": 3
        }
      ]
    },
    {
      "cell_type": "markdown",
      "metadata": {
        "id": "_YJbF8aWxcNG"
      },
      "source": [
        "Criando uma nova coluna, para representar o dia da semana (Seg, Ter, Qua...) usando a data de entradad"
      ]
    },
    {
      "cell_type": "code",
      "metadata": {
        "colab": {
          "base_uri": "https://localhost:8080/",
          "height": 374
        },
        "id": "G5Ojgvn6xn8w",
        "outputId": "c808c5cd-642a-4a4b-bcc0-fbf6952154fd"
      },
      "source": [
        "dataFrame['Dia Semana'] = pd.to_datetime(dataFrame['Data de Entrada'],format= '%d/%m/%Y')\n",
        "dataFrame['Dia Semana'] = dataFrame['Dia Semana'].dt.dayofweek\n",
        "dataFrame.head()"
      ],
      "execution_count": null,
      "outputs": [
        {
          "output_type": "execute_result",
          "data": {
            "text/html": [
              "<div>\n",
              "<style scoped>\n",
              "    .dataframe tbody tr th:only-of-type {\n",
              "        vertical-align: middle;\n",
              "    }\n",
              "\n",
              "    .dataframe tbody tr th {\n",
              "        vertical-align: top;\n",
              "    }\n",
              "\n",
              "    .dataframe thead th {\n",
              "        text-align: right;\n",
              "    }\n",
              "</style>\n",
              "<table border=\"1\" class=\"dataframe\">\n",
              "  <thead>\n",
              "    <tr style=\"text-align: right;\">\n",
              "      <th></th>\n",
              "      <th>Classe de Manutenção - Código</th>\n",
              "      <th>Classe de Manutenção - Descrição</th>\n",
              "      <th>Data de Entrada</th>\n",
              "      <th>Data de Saída</th>\n",
              "      <th>Funcionário - Código</th>\n",
              "      <th>Funcionário - Descrição</th>\n",
              "      <th>Sistema Veicular - Código</th>\n",
              "      <th>Sistema Veicular - Código.1</th>\n",
              "      <th>Subsistema Veicular - Código</th>\n",
              "      <th>Subsistema Veicular - Descrição</th>\n",
              "      <th>Horas</th>\n",
              "      <th>Sis. Veicular</th>\n",
              "      <th>Funcionario</th>\n",
              "      <th>\\nData de Saída</th>\n",
              "      <th>\\nData de Entrada</th>\n",
              "      <th>Classe Manut.</th>\n",
              "      <th>Geral</th>\n",
              "      <th>Dia Semana</th>\n",
              "    </tr>\n",
              "  </thead>\n",
              "  <tbody>\n",
              "    <tr>\n",
              "      <th>0</th>\n",
              "      <td>29</td>\n",
              "      <td>Corret. Emergencial</td>\n",
              "      <td>1/4/2020</td>\n",
              "      <td>1/4/2020</td>\n",
              "      <td>22955</td>\n",
              "      <td>Marcelo Venceslau da Silva</td>\n",
              "      <td>1400</td>\n",
              "      <td>SISTEMA HIDRÁULICO</td>\n",
              "      <td>1402</td>\n",
              "      <td>Cilindro hidráulico</td>\n",
              "      <td>2.35</td>\n",
              "      <td>100.0</td>\n",
              "      <td>100.0</td>\n",
              "      <td>2.10</td>\n",
              "      <td>0.11</td>\n",
              "      <td>0.0</td>\n",
              "      <td>0.0</td>\n",
              "      <td>2</td>\n",
              "    </tr>\n",
              "    <tr>\n",
              "      <th>1</th>\n",
              "      <td>29</td>\n",
              "      <td>Corret. Emergencial</td>\n",
              "      <td>1/4/2020</td>\n",
              "      <td>1/4/2020</td>\n",
              "      <td>30413</td>\n",
              "      <td>Agnaldo Aparecido Monteiro</td>\n",
              "      <td>1300</td>\n",
              "      <td>SISTEMA ELÉTRICO</td>\n",
              "      <td>1312</td>\n",
              "      <td>Indicadores Diversos</td>\n",
              "      <td>4.74</td>\n",
              "      <td>100.0</td>\n",
              "      <td>100.0</td>\n",
              "      <td>4.23</td>\n",
              "      <td>0.23</td>\n",
              "      <td>0.0</td>\n",
              "      <td>0.0</td>\n",
              "      <td>2</td>\n",
              "    </tr>\n",
              "    <tr>\n",
              "      <th>2</th>\n",
              "      <td>29</td>\n",
              "      <td>Corret. Emergencial</td>\n",
              "      <td>1/4/2020</td>\n",
              "      <td>1/4/2020</td>\n",
              "      <td>41598</td>\n",
              "      <td>Ademir de Jesus Aparecido</td>\n",
              "      <td>1400</td>\n",
              "      <td>SISTEMA HIDRÁULICO</td>\n",
              "      <td>1410</td>\n",
              "      <td>Mangueiras</td>\n",
              "      <td>2.99</td>\n",
              "      <td>100.0</td>\n",
              "      <td>100.0</td>\n",
              "      <td>2.67</td>\n",
              "      <td>0.15</td>\n",
              "      <td>0.0</td>\n",
              "      <td>0.0</td>\n",
              "      <td>2</td>\n",
              "    </tr>\n",
              "    <tr>\n",
              "      <th>3</th>\n",
              "      <td>29</td>\n",
              "      <td>Corret. Emergencial</td>\n",
              "      <td>1/4/2020</td>\n",
              "      <td>1/4/2020</td>\n",
              "      <td>50082</td>\n",
              "      <td>Alessandro Miranda</td>\n",
              "      <td>1000</td>\n",
              "      <td>PNEUS E AROS</td>\n",
              "      <td>1003</td>\n",
              "      <td>Pneus traseiros</td>\n",
              "      <td>0.29</td>\n",
              "      <td>100.0</td>\n",
              "      <td>100.0</td>\n",
              "      <td>0.26</td>\n",
              "      <td>0.01</td>\n",
              "      <td>0.0</td>\n",
              "      <td>0.0</td>\n",
              "      <td>2</td>\n",
              "    </tr>\n",
              "    <tr>\n",
              "      <th>4</th>\n",
              "      <td>29</td>\n",
              "      <td>Corret. Emergencial</td>\n",
              "      <td>1/4/2020</td>\n",
              "      <td>1/4/2020</td>\n",
              "      <td>52596</td>\n",
              "      <td>Josenaldo Silva Sousa</td>\n",
              "      <td>1300</td>\n",
              "      <td>SISTEMA ELÉTRICO</td>\n",
              "      <td>1301</td>\n",
              "      <td>Alternador</td>\n",
              "      <td>3.35</td>\n",
              "      <td>100.0</td>\n",
              "      <td>100.0</td>\n",
              "      <td>2.99</td>\n",
              "      <td>0.16</td>\n",
              "      <td>0.0</td>\n",
              "      <td>0.0</td>\n",
              "      <td>2</td>\n",
              "    </tr>\n",
              "  </tbody>\n",
              "</table>\n",
              "</div>"
            ],
            "text/plain": [
              "   Classe de Manutenção - Código  ... Dia Semana\n",
              "0                             29  ...          2\n",
              "1                             29  ...          2\n",
              "2                             29  ...          2\n",
              "3                             29  ...          2\n",
              "4                             29  ...          2\n",
              "\n",
              "[5 rows x 18 columns]"
            ]
          },
          "metadata": {
            "tags": []
          },
          "execution_count": 4
        }
      ]
    },
    {
      "cell_type": "markdown",
      "source": [
        "# Train test split"
      ],
      "metadata": {
        "id": "qo7DNlUQO7nf"
      }
    },
    {
      "cell_type": "code",
      "metadata": {
        "id": "jeAChRq3R-KL"
      },
      "source": [
        "# Y são os valores que queremos prever. no caso toda a coluna \"Horas\"\n",
        "y = dataFrame['Horas']\n",
        "\n",
        "#Os parametros são os valores que entrarão para as arvores de decisao *feature selection* (escolhas empíricas)\n",
        "# X recebe as colunas com os parametros\n",
        "parametros = ['Classe de Manutenção - Código', 'Funcionário - Código', 'Subsistema Veicular - Código', 'Dia Semana']\n",
        "X = dataFrame[parametros]\n",
        "\n",
        "#Dividindo o dataframe para usar parte em treinamento e parte em validadção\n",
        "treinoX, valX, treinoy, valy = train_test_split(X, y, random_state=13)#random state gera uma semente de aleatoriedade sempre igual, para obter o mesmo resultado--\n",
        "# em todas as vezes que o codigo é rodado"
      ],
      "execution_count": null,
      "outputs": []
    },
    {
      "cell_type": "markdown",
      "metadata": {
        "id": "MdD7ZxkNbapZ"
      },
      "source": [
        "já temos os dados separado e prontos para serem adicionados ao modelo de ML, aqui usaremos o RandomForestRegressor"
      ]
    },
    {
      "cell_type": "markdown",
      "source": [
        "# Modelo de regressão"
      ],
      "metadata": {
        "id": "lEzAsU16PBij"
      }
    },
    {
      "cell_type": "code",
      "metadata": {
        "colab": {
          "base_uri": "https://localhost:8080/"
        },
        "id": "cujXaAmNfG10",
        "outputId": "3213b300-c64f-4172-cb6a-1224b9aa1fc5"
      },
      "source": [
        "modeloTreino = RandomForestRegressor(random_state=13)\n",
        "\n",
        "modeloTreino.fit(treinoX, treinoy)\n",
        "\n",
        "prediY = modeloTreino.predict(valX) # Atribuindo as prediçoes do modelo\n",
        "print(prediY)"
      ],
      "execution_count": null,
      "outputs": [
        {
          "output_type": "stream",
          "text": [
            "[3.04213333 2.03480667 1.60866667 ... 0.14390748 1.15835    1.72164167]\n"
          ],
          "name": "stdout"
        }
      ]
    },
    {
      "cell_type": "markdown",
      "metadata": {
        "id": "vTPuoaLIgo2U"
      },
      "source": [
        "Vamos avaliar a capacidade de predição do nosso modelo usado o metodo MeanAbsoluteError comparando as predições geradas com o modelo e os valor reais separados anteriormente em valy (validação de y)"
      ]
    },
    {
      "cell_type": "markdown",
      "source": [
        "# Métrica"
      ],
      "metadata": {
        "id": "eJt7D99uPIC-"
      }
    },
    {
      "cell_type": "code",
      "metadata": {
        "colab": {
          "base_uri": "https://localhost:8080/"
        },
        "id": "kOxdoA3vg_Bu",
        "outputId": "5d323546-c8a6-4dfd-8310-c80c4046a7b8"
      },
      "source": [
        "maeModelo = mean_absolute_error(prediY, valy)\n",
        "print(maeModelo) #Valores em horas\n",
        "r2 = r2_score(prediY, valy) #coeficiente de determinaçao\n",
        "print(r2)"
      ],
      "execution_count": null,
      "outputs": [
        {
          "output_type": "stream",
          "text": [
            "1.5072897136509533\n",
            "0.8421470944097318\n"
          ],
          "name": "stdout"
        }
      ]
    },
    {
      "cell_type": "markdown",
      "metadata": {
        "id": "O_cGy1iHh8rm"
      },
      "source": [
        "Com o nosso modelo podemos prever o tempo total de uma manutenção com um erro médio aprox. de 1,5 Horas. No entando, agora usaremos todo o data frame para gerar um modelo com mais dados, afim de aumentar a acuracia da prediçoes, que será o modelo final onde as próximas inserções de dados terão seu tempo previsto."
      ]
    },
    {
      "cell_type": "markdown",
      "source": [
        "# Modelo Final"
      ],
      "metadata": {
        "id": "L0IffKpyPLpK"
      }
    },
    {
      "cell_type": "code",
      "metadata": {
        "colab": {
          "base_uri": "https://localhost:8080/"
        },
        "id": "ZCtnjCvDiqEF",
        "outputId": "9a058fe0-7571-4431-cbdc-195a890929d9"
      },
      "source": [
        "modeloFinal = RandomForestRegressor(random_state=13)\n",
        "modeloFinal.fit(X, y)"
      ],
      "execution_count": null,
      "outputs": [
        {
          "output_type": "execute_result",
          "data": {
            "text/plain": [
              "RandomForestRegressor(bootstrap=True, ccp_alpha=0.0, criterion='mse',\n",
              "                      max_depth=None, max_features='auto', max_leaf_nodes=None,\n",
              "                      max_samples=None, min_impurity_decrease=0.0,\n",
              "                      min_impurity_split=None, min_samples_leaf=1,\n",
              "                      min_samples_split=2, min_weight_fraction_leaf=0.0,\n",
              "                      n_estimators=100, n_jobs=None, oob_score=False,\n",
              "                      random_state=13, verbose=0, warm_start=False)"
            ]
          },
          "metadata": {
            "tags": []
          },
          "execution_count": 8
        }
      ]
    },
    {
      "cell_type": "markdown",
      "metadata": {
        "id": "_KTqpEnli99r"
      },
      "source": [
        "O modelo final está pronto. podemos usar uma entrada de teste para prever o tempo de uma manunteção que venha ocorrer\n",
        "\n",
        "Usaremos os campos seleceionado como parametros para prever. \n",
        "Nesse Exemplo um veículo teve uma correção emergencial (cód. 29),o funcionario Jefferson Gabriel Vilela (cód. 105184) foi designado para a tarefa, o problema fora no Sistema Hidráulico (Cód. 1400) no subsistema cilindro hidráulico (cód. 1402), que ocorreu em uma quarta-feira(2).\n",
        "\n",
        "Nosso modelo tentará prever o tempo que o funcionario levara para realizar esse reparo"
      ]
    },
    {
      "cell_type": "markdown",
      "source": [
        "# Simulação"
      ],
      "metadata": {
        "id": "fLmpT59EPQgy"
      }
    },
    {
      "cell_type": "code",
      "metadata": {
        "colab": {
          "base_uri": "https://localhost:8080/"
        },
        "id": "m4ClW6gLjLK8",
        "outputId": "f15e35fe-a2d8-423a-bb43-0327bbab84f5"
      },
      "source": [
        "dic = {\n",
        "    'Classe de Manutenção - Código' : pd.Series(['29'], index = ['a']),\n",
        "    'Funcionário - Código' : pd.Series(['105184'], index = ['a']), \n",
        "    'Dia Semana' : pd.Series(['2'], index = ['a']),\n",
        "    'Subsistema Veicular - Código' : pd.Series(['1402'], index = ['a'])\n",
        "}\n",
        "x1 = pd.DataFrame(dic)\n",
        "#x1 = [['Classe de Manutenção - Código','29'], ['Funcionário - Código','105184'], ['Sistema Veicular - Código','1400'], ['Subsistema Veicular - Código','1402']]\n",
        "tempo = modeloFinal.predict(x1)\n",
        "print(tempo)"
      ],
      "execution_count": null,
      "outputs": [
        {
          "output_type": "stream",
          "text": [
            "[2.17867143]\n"
          ],
          "name": "stdout"
        }
      ]
    },
    {
      "cell_type": "markdown",
      "source": [
        "# Função otimizadora para melhor funcionário"
      ],
      "metadata": {
        "id": "LZJlPH64PVgS"
      }
    },
    {
      "cell_type": "code",
      "metadata": {
        "colab": {
          "base_uri": "https://localhost:8080/"
        },
        "id": "I3S8nZhHp0py",
        "outputId": "cb2da3b8-c406-4bbe-c0bc-13de0b70c290"
      },
      "source": [
        "def melhorFunc (clas, sem, sub):\n",
        "  fun = open('drive/MyDrive/codFunc.csv','r')\n",
        "  melhorT = 99999999\n",
        "  MelhorF = ''\n",
        "  for i in fun:\n",
        "    dic = {\n",
        "      'Classe de Manutenção - Código' : pd.Series([clas], index = ['a']),\n",
        "      'Funcionário - Código' : pd.Series([str(i)], index = ['a']), \n",
        "      'Dia Semana' : pd.Series([sem], index = ['a']),\n",
        "      'Subsistema Veicular - Código' : pd.Series([sub], index = ['a'])\n",
        "    }\n",
        "    x = pd.DataFrame(dic)\n",
        "    tempo = modeloFinal.predict(x)\n",
        "    if tempo < melhorT:\n",
        "      melhorT = tempo\n",
        "      MelhorF = i\n",
        "  return melhorT, MelhorF\n",
        "\n",
        "print(melhorFunc('29','2','1402'))\n",
        "\n",
        "  "
      ],
      "execution_count": null,
      "outputs": [
        {
          "output_type": "stream",
          "text": [
            "(array([0.48005238]), '101219\\n')\n"
          ],
          "name": "stdout"
        }
      ]
    },
    {
      "cell_type": "markdown",
      "source": [
        "saída de menor tempo de serviço prevista e código do funcionário"
      ],
      "metadata": {
        "id": "DadKfPCNPeC-"
      }
    }
  ]
}